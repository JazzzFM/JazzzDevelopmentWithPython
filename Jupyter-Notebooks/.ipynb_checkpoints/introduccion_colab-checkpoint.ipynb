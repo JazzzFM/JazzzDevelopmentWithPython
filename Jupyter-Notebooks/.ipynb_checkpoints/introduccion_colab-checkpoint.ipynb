{
 "cells": [
  {
   "cell_type": "markdown",
   "metadata": {
    "id": "VX4AXt1z06p7"
   },
   "source": [
    "# Introducción a Google Colaboratory\n",
    "\n",
    "\n",
    "\n"
   ]
  },
  {
   "cell_type": "markdown",
   "metadata": {
    "id": "3w9hDmeT1RFc"
   },
   "source": [
    "## Ejecución y edición de celdas"
   ]
  },
  {
   "cell_type": "markdown",
   "metadata": {
    "id": "kVycw82U1SNU"
   },
   "source": [
    "### Celdas de código"
   ]
  },
  {
   "cell_type": "code",
   "execution_count": null,
   "metadata": {
    "colab": {
     "base_uri": "https://localhost:8080/"
    },
    "id": "pmj63Cv01Smg",
    "outputId": "f91ad15a-0716-4776-e06d-fcf1506dcf09"
   },
   "outputs": [
    {
     "data": {
      "text/plain": [
       "3"
      ]
     },
     "execution_count": 1,
     "metadata": {
      "tags": []
     },
     "output_type": "execute_result"
    }
   ],
   "source": [
    "1 + 2"
   ]
  },
  {
   "cell_type": "markdown",
   "metadata": {
    "id": "BizkQMEJ1bFT"
   },
   "source": [
    "### Celdas de texto"
   ]
  },
  {
   "cell_type": "markdown",
   "metadata": {
    "id": "o1RZy_-O2qwR"
   },
   "source": [
    "#### Texto enriquericido\n",
    "\n",
    "\n"
   ]
  },
  {
   "cell_type": "markdown",
   "metadata": {
    "id": "-OXWFW_u2rNL"
   },
   "source": [
    "#### Imágenes o gifs"
   ]
  },
  {
   "cell_type": "markdown",
   "metadata": {
    "id": "k-Ui7NLh1bLf"
   },
   "source": [
    "![link text](https://media.giphy.com/media/6aGXQxkohixag/giphy.gif)"
   ]
  },
  {
   "cell_type": "markdown",
   "metadata": {
    "id": "RrNr7t6F1bP8"
   },
   "source": [
    "## Variables"
   ]
  },
  {
   "cell_type": "code",
   "execution_count": null,
   "metadata": {
    "id": "3jaRCHkS1bTf"
   },
   "outputs": [],
   "source": []
  },
  {
   "cell_type": "code",
   "execution_count": null,
   "metadata": {
    "id": "HiN7Chx11bWf"
   },
   "outputs": [],
   "source": []
  },
  {
   "cell_type": "markdown",
   "metadata": {
    "id": "RMzLQ0KF1bZY"
   },
   "source": [
    "## Línea de comandos"
   ]
  },
  {
   "cell_type": "code",
   "execution_count": null,
   "metadata": {
    "id": "diJyGyWw3392"
   },
   "outputs": [],
   "source": []
  },
  {
   "cell_type": "markdown",
   "metadata": {
    "id": "IcPvNSH64OGR"
   },
   "source": [
    "## Instalación de librerías"
   ]
  },
  {
   "cell_type": "code",
   "execution_count": null,
   "metadata": {
    "id": "_q-ajRSrFK1Q"
   },
   "outputs": [],
   "source": []
  },
  {
   "cell_type": "code",
   "execution_count": null,
   "metadata": {
    "id": "EvgpUkAGG1hH"
   },
   "outputs": [],
   "source": []
  },
  {
   "cell_type": "code",
   "execution_count": null,
   "metadata": {
    "id": "XXW_W6F4JjzN"
   },
   "outputs": [],
   "source": []
  },
  {
   "cell_type": "markdown",
   "metadata": {
    "id": "bfbnB1rw437K"
   },
   "source": [
    "### Ciencia de datos"
   ]
  },
  {
   "cell_type": "markdown",
   "metadata": {
    "id": "Zh3EV2drAyRE"
   },
   "source": [
    "### Subir archivos"
   ]
  },
  {
   "cell_type": "code",
   "execution_count": null,
   "metadata": {
    "id": "o2zBdfYDAwoT"
   },
   "outputs": [],
   "source": []
  },
  {
   "cell_type": "markdown",
   "metadata": {
    "id": "tWT-hVeekJ7Y"
   },
   "source": [
    "### Librerías para Ciencia de Datos\n",
    "\n",
    "- 📊 **matplotlib**: Generación de gráficos a partir de listas o arrays.\n",
    "- 🧑‍💻 **numpy**: Cómputo científico para la manipulación de vectores.\n",
    "- 🧑‍💻 **pandas**: Manipulación y análisis de datos de tablas y series temporales.\n",
    "- 🧑‍💻 **scipy**: Herramientas y algoritmos matemáticos.\n",
    "- 📊 **seaborn**: Visualización de datos estadísticos."
   ]
  },
  {
   "cell_type": "code",
   "execution_count": null,
   "metadata": {
    "id": "ARjmm8iZkKGG"
   },
   "outputs": [],
   "source": [
    "import matplotlib.pyplot as plt\n",
    "import numpy as np\n",
    "import pandas as pd\n",
    "import scipy as sc\n",
    "import seaborn as sns"
   ]
  },
  {
   "cell_type": "markdown",
   "metadata": {
    "id": "EMnwCNzMkKTd"
   },
   "source": [
    "### Gráficas"
   ]
  },
  {
   "cell_type": "code",
   "execution_count": null,
   "metadata": {
    "id": "YRzwKWVPrsv2"
   },
   "outputs": [],
   "source": [
    "# load an example dataset\n",
    "from vega_datasets import data\n",
    "cars = data.cars()\n",
    "\n",
    "# plot the dataset, referencing dataframe column names\n",
    "import altair as alt\n",
    "alt.Chart(cars).mark_bar().encode(\n",
    "  x=alt.X('Miles_per_Gallon', bin=True),\n",
    "  y='count()',\n",
    ")"
   ]
  },
  {
   "cell_type": "markdown",
   "metadata": {
    "id": "MvJKNGhb8pP8"
   },
   "source": [
    "## Atajos de teclado"
   ]
  }
 ],
 "metadata": {
  "colab": {
   "collapsed_sections": [],
   "name": "introduccion_colab_live.ipynb",
   "provenance": []
  },
  "kernelspec": {
   "display_name": "Python 3 (ipykernel)",
   "language": "python",
   "name": "python3"
  },
  "language_info": {
   "codemirror_mode": {
    "name": "ipython",
    "version": 3
   },
   "file_extension": ".py",
   "mimetype": "text/x-python",
   "name": "python",
   "nbconvert_exporter": "python",
   "pygments_lexer": "ipython3",
   "version": "3.8.3"
  }
 },
 "nbformat": 4,
 "nbformat_minor": 1
}
