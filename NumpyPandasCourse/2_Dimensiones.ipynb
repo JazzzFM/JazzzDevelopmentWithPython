{
 "cells": [
  {
   "cell_type": "code",
   "execution_count": 7,
   "id": "d9725ae5-258a-4e8b-992f-112ecf5b8481",
   "metadata": {},
   "outputs": [],
   "source": [
    "import numpy as np"
   ]
  },
  {
   "cell_type": "code",
   "execution_count": 8,
   "id": "f7016206-1696-4489-af2d-c8a31e6c3257",
   "metadata": {},
   "outputs": [
    {
     "name": "stdout",
     "output_type": "stream",
     "text": [
      "42\n"
     ]
    },
    {
     "data": {
      "text/plain": [
       "0"
      ]
     },
     "execution_count": 8,
     "metadata": {},
     "output_type": "execute_result"
    }
   ],
   "source": [
    "scalar = np.array(42)\n",
    "print(scalar)\n",
    "scalar.ndim"
   ]
  },
  {
   "cell_type": "code",
   "execution_count": 9,
   "id": "58a860e7-1137-4c41-8531-d4e3e0ba8ed3",
   "metadata": {},
   "outputs": [
    {
     "name": "stdout",
     "output_type": "stream",
     "text": [
      "[1 2 3]\n"
     ]
    },
    {
     "data": {
      "text/plain": [
       "1"
      ]
     },
     "execution_count": 9,
     "metadata": {},
     "output_type": "execute_result"
    }
   ],
   "source": [
    "vector = np.array([1,2,3])\n",
    "print(vector)\n",
    "vector.ndim"
   ]
  },
  {
   "cell_type": "code",
   "execution_count": 10,
   "id": "5b273b43-5851-448a-8096-f2c180283692",
   "metadata": {},
   "outputs": [
    {
     "name": "stdout",
     "output_type": "stream",
     "text": [
      "[[1 2 3]\n",
      " [4 5 6]]\n"
     ]
    },
    {
     "data": {
      "text/plain": [
       "2"
      ]
     },
     "execution_count": 10,
     "metadata": {},
     "output_type": "execute_result"
    }
   ],
   "source": [
    "matriz = np.array([[1,2,3],[4,5,6]])\n",
    "print(matriz)\n",
    "matriz.ndim"
   ]
  },
  {
   "cell_type": "code",
   "execution_count": 12,
   "id": "6efa178d-ee8f-44f7-a296-df90a18e6f84",
   "metadata": {},
   "outputs": [
    {
     "name": "stdout",
     "output_type": "stream",
     "text": [
      "[[[ 1  2  3]\n",
      "  [ 4  5  6]\n",
      "  [ 7  8  9]\n",
      "  [10 11 12]]\n",
      "\n",
      " [[13 13 15]\n",
      "  [16 17 18]\n",
      "  [19 20 21]\n",
      "  [22 23 24]]]\n"
     ]
    },
    {
     "data": {
      "text/plain": [
       "3"
      ]
     },
     "execution_count": 12,
     "metadata": {},
     "output_type": "execute_result"
    }
   ],
   "source": [
    "tensor = np.array([\n",
    "                    [[1, 2, 3], \n",
    "                     [4, 5, 6], \n",
    "                     [7, 8, 9], \n",
    "                     [10, 11, 12]],\n",
    "        \n",
    "                    [[13, 13, 15], \n",
    "                     [16, 17, 18], \n",
    "                     [19, 20, 21], \n",
    "                     [22, 23, 24]]\n",
    "                 ])\n",
    "print(tensor)\n",
    "tensor.ndim"
   ]
  },
  {
   "cell_type": "markdown",
   "id": "c4b89ad7-cdb0-4aae-a962-e74284bc9ded",
   "metadata": {},
   "source": [
    "## Agregar o eliminar dimensiones\n",
    "    Se puede definir el número de dimensiones desde la declaración del array"
   ]
  },
  {
   "cell_type": "code",
   "execution_count": 14,
   "id": "165da6a1-1765-4ad1-80a7-9cad152629fa",
   "metadata": {},
   "outputs": [
    {
     "name": "stdout",
     "output_type": "stream",
     "text": [
      "[[[[[[[[[[1 2 3]]]]]]]]]]\n"
     ]
    },
    {
     "data": {
      "text/plain": [
       "10"
      ]
     },
     "execution_count": 14,
     "metadata": {},
     "output_type": "execute_result"
    }
   ],
   "source": [
    "vector = np.array([1, 2, 3], ndmin = 10)\n",
    "print(vector) \n",
    "vector.ndim"
   ]
  },
  {
   "cell_type": "markdown",
   "id": "cacdbb51-da35-4606-9c56-c92ce4ad0069",
   "metadata": {},
   "source": [
    "Se pueden expandir dimensiones a los array ya existentes. \n",
    "\n",
    "Axis = 0 hace refencia a las filas, mientras que axis = 1 a las columnas."
   ]
  },
  {
   "cell_type": "code",
   "execution_count": 15,
   "id": "533935f8-f709-4fed-833f-ea05603b5efc",
   "metadata": {},
   "outputs": [
    {
     "name": "stdout",
     "output_type": "stream",
     "text": [
      "[[1 2 3]]\n"
     ]
    },
    {
     "data": {
      "text/plain": [
       "2"
      ]
     },
     "execution_count": 15,
     "metadata": {},
     "output_type": "execute_result"
    }
   ],
   "source": [
    "expand = np.expand_dims(np.array([1, 2, 3]), axis = 0)\n",
    "print(expand)\n",
    "expand.ndim"
   ]
  },
  {
   "cell_type": "code",
   "execution_count": 17,
   "id": "bafb3821-180a-4ca7-bdb1-32d9dac65608",
   "metadata": {},
   "outputs": [
    {
     "name": "stdout",
     "output_type": "stream",
     "text": [
      "[[[[[[[[[[1 2 3]]]]]]]]]] 10\n"
     ]
    }
   ],
   "source": [
    "print(vector, vector.ndim)"
   ]
  },
  {
   "cell_type": "code",
   "execution_count": 18,
   "id": "08510747-ec1b-4740-927d-aab3bd1de0d6",
   "metadata": {},
   "outputs": [],
   "source": [
    "vector_2 = np.squeeze(vector)"
   ]
  },
  {
   "cell_type": "code",
   "execution_count": 19,
   "id": "7985bc9a-1756-4ca6-a4a5-c766a67967fa",
   "metadata": {},
   "outputs": [
    {
     "name": "stdout",
     "output_type": "stream",
     "text": [
      "[1 2 3] 1\n"
     ]
    }
   ],
   "source": [
    "print(vector_2, vector_2.ndim)"
   ]
  },
  {
   "cell_type": "markdown",
   "id": "e4f722fd-18eb-4393-9020-1d15a9474987",
   "metadata": {},
   "source": [
    "## Reto\n",
    "\n",
    "    1. Definir un tensor de 5 dimensiones\n",
    "    2. Sumar una dimensión en algún eje\n",
    "    3. Borrar dimensiones que no se usen\n",
    "\n"
   ]
  },
  {
   "cell_type": "code",
   "execution_count": 23,
   "id": "0f06e90e-92a5-4fa4-8bd6-42c232c8e91d",
   "metadata": {},
   "outputs": [
    {
     "name": "stdout",
     "output_type": "stream",
     "text": [
      "[[[[[1 2]\n",
      "    [3 4]]\n",
      "\n",
      "   [[5 6]\n",
      "    [7 8]]]\n",
      "\n",
      "\n",
      "  [[[1 2]\n",
      "    [3 4]]\n",
      "\n",
      "   [[5 6]\n",
      "    [7 8]]]]] 5\n"
     ]
    }
   ],
   "source": [
    "tensor5 = np.array([[[[1, 2],[3, 4]], \n",
    "                     [[5, 6],[7, 8]]], \n",
    "                    [[[1, 2],[3, 4]],\n",
    "                     [[5, 6],[7, 8]]]\n",
    "                   ], ndmin = 5)\n",
    "print(tensor5, tensor5.ndim)"
   ]
  },
  {
   "cell_type": "code",
   "execution_count": 21,
   "id": "70f21350-3c69-468f-886e-b67881ff23ae",
   "metadata": {},
   "outputs": [
    {
     "name": "stdout",
     "output_type": "stream",
     "text": [
      "[[[[[[1 2]\n",
      "     [3 4]]\n",
      "\n",
      "    [[5 6]\n",
      "     [7 8]]]\n",
      "\n",
      "\n",
      "   [[[1 2]\n",
      "     [3 4]]\n",
      "\n",
      "    [[5 6]\n",
      "     [7 8]]]]]] 6\n"
     ]
    }
   ],
   "source": [
    "expand5 = np.expand_dims(tensor5, axis=1)\n",
    "print(expand5, expand5.ndim)"
   ]
  },
  {
   "cell_type": "code",
   "execution_count": 22,
   "id": "1f8d7043-277b-41b7-b358-1d1072a67c6a",
   "metadata": {},
   "outputs": [
    {
     "name": "stdout",
     "output_type": "stream",
     "text": [
      "[[[[[[1 2]\n",
      "     [3 4]]\n",
      "\n",
      "    [[5 6]\n",
      "     [7 8]]]\n",
      "\n",
      "\n",
      "   [[[1 2]\n",
      "     [3 4]]\n",
      "\n",
      "    [[5 6]\n",
      "     [7 8]]]]]] 6\n",
      "[[[[1 2]\n",
      "   [3 4]]\n",
      "\n",
      "  [[5 6]\n",
      "   [7 8]]]\n",
      "\n",
      "\n",
      " [[[1 2]\n",
      "   [3 4]]\n",
      "\n",
      "  [[5 6]\n",
      "   [7 8]]]] 4\n"
     ]
    }
   ],
   "source": [
    "print(expand5, expand5.ndim)\n",
    "reduced5 = np.squeeze(expand5)\n",
    "print(reduced5, reduced5.ndim)"
   ]
  }
 ],
 "metadata": {
  "kernelspec": {
   "display_name": "Python 3 (ipykernel)",
   "language": "python",
   "name": "python3"
  },
  "language_info": {
   "codemirror_mode": {
    "name": "ipython",
    "version": 3
   },
   "file_extension": ".py",
   "mimetype": "text/x-python",
   "name": "python",
   "nbconvert_exporter": "python",
   "pygments_lexer": "ipython3",
   "version": "3.11.5"
  }
 },
 "nbformat": 4,
 "nbformat_minor": 5
}
