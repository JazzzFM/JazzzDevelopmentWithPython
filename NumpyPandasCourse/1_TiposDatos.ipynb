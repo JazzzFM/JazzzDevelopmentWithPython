{
 "cells": [
  {
   "cell_type": "code",
   "execution_count": 2,
   "id": "c42e099a-0759-474a-94df-b087cdb3b53e",
   "metadata": {},
   "outputs": [],
   "source": [
    "import numpy as np"
   ]
  },
  {
   "cell_type": "code",
   "execution_count": 3,
   "id": "656b1bf5-d73f-4654-b53a-f906e1065125",
   "metadata": {},
   "outputs": [],
   "source": [
    "arr = np.array([1,2,3,4])"
   ]
  },
  {
   "cell_type": "code",
   "execution_count": 4,
   "id": "a10d0527-c35e-4240-95b1-0e530e2a9038",
   "metadata": {},
   "outputs": [
    {
     "data": {
      "text/plain": [
       "dtype('int64')"
      ]
     },
     "execution_count": 4,
     "metadata": {},
     "output_type": "execute_result"
    }
   ],
   "source": [
    "arr.dtype"
   ]
  },
  {
   "cell_type": "code",
   "execution_count": 5,
   "id": "f88b5dcc-f3fd-4823-840d-00a1b84db362",
   "metadata": {},
   "outputs": [],
   "source": [
    "arr = np.array([1,2,3,4], dtype = 'float64')"
   ]
  },
  {
   "cell_type": "code",
   "execution_count": 6,
   "id": "9a5ce4a2-9cf2-4023-ba39-ec38dcca7ca3",
   "metadata": {},
   "outputs": [
    {
     "data": {
      "text/plain": [
       "dtype('float64')"
      ]
     },
     "execution_count": 6,
     "metadata": {},
     "output_type": "execute_result"
    }
   ],
   "source": [
    "arr.dtype"
   ]
  },
  {
   "cell_type": "code",
   "execution_count": 7,
   "id": "3c79cb44-91e8-4751-9e3e-888f6c4d55e6",
   "metadata": {},
   "outputs": [
    {
     "data": {
      "text/plain": [
       "array([1., 2., 3., 4.])"
      ]
     },
     "execution_count": 7,
     "metadata": {},
     "output_type": "execute_result"
    }
   ],
   "source": [
    "arr"
   ]
  },
  {
   "cell_type": "code",
   "execution_count": null,
   "id": "e90ef6a8-4911-452a-85ed-e6fc091722e1",
   "metadata": {},
   "outputs": [],
   "source": [
    "arr = np.array([1,2,3,4])"
   ]
  },
  {
   "cell_type": "code",
   "execution_count": 9,
   "id": "589d3e12-0d77-45e1-9528-7ceabb9640a4",
   "metadata": {},
   "outputs": [],
   "source": [
    "arr = arr.astype(np.float64)"
   ]
  },
  {
   "cell_type": "code",
   "execution_count": 10,
   "id": "265c2ce2-a617-4ca7-acd1-59f46eb5dfe4",
   "metadata": {},
   "outputs": [
    {
     "data": {
      "text/plain": [
       "array([1., 2., 3., 4.])"
      ]
     },
     "execution_count": 10,
     "metadata": {},
     "output_type": "execute_result"
    }
   ],
   "source": [
    "arr"
   ]
  },
  {
   "cell_type": "code",
   "execution_count": 5,
   "id": "bd26a7be-b892-4184-b6fe-de7de7af71cb",
   "metadata": {},
   "outputs": [],
   "source": [
    "arr = np.array([0,1,2,3,4])"
   ]
  },
  {
   "cell_type": "code",
   "execution_count": 7,
   "id": "1f99a7e0-1397-4a9d-b85c-251ca26483de",
   "metadata": {},
   "outputs": [],
   "source": [
    "arr = arr.astype(np.bool_)"
   ]
  },
  {
   "cell_type": "code",
   "execution_count": 8,
   "id": "bafd2d87-def1-4d0c-8d7c-99aaa3c87055",
   "metadata": {},
   "outputs": [
    {
     "data": {
      "text/plain": [
       "array([False,  True,  True,  True,  True])"
      ]
     },
     "execution_count": 8,
     "metadata": {},
     "output_type": "execute_result"
    }
   ],
   "source": [
    "arr"
   ]
  },
  {
   "cell_type": "code",
   "execution_count": 21,
   "id": "875fbe0f-a499-493a-b4c1-dcfd5343b302",
   "metadata": {},
   "outputs": [],
   "source": [
    "arr = np.array([0,1,2,3,4])"
   ]
  },
  {
   "cell_type": "code",
   "execution_count": 22,
   "id": "2053dd0b-9043-43b9-ada2-2131e2aa735b",
   "metadata": {},
   "outputs": [],
   "source": [
    "arr = arr.astype(np.string_)"
   ]
  },
  {
   "cell_type": "code",
   "execution_count": 23,
   "id": "4b8f1f72-0389-4740-9d24-cf7f434f6272",
   "metadata": {},
   "outputs": [
    {
     "data": {
      "text/plain": [
       "array([b'0', b'1', b'2', b'3', b'4'], dtype='|S21')"
      ]
     },
     "execution_count": 23,
     "metadata": {},
     "output_type": "execute_result"
    }
   ],
   "source": [
    "arr"
   ]
  },
  {
   "cell_type": "code",
   "execution_count": 24,
   "id": "7d0a24fe-5e3e-4099-9146-502a8b555338",
   "metadata": {},
   "outputs": [],
   "source": [
    "arr = np.array(['0','1','2','3','4'])"
   ]
  },
  {
   "cell_type": "code",
   "execution_count": 25,
   "id": "0cb0f09a-3b5f-4b67-a504-8522fb8f3923",
   "metadata": {},
   "outputs": [],
   "source": [
    "arr = arr.astype(np.int8)"
   ]
  },
  {
   "cell_type": "code",
   "execution_count": 26,
   "id": "982df276-f6da-4cd9-be33-faf50e1bf8ac",
   "metadata": {},
   "outputs": [
    {
     "data": {
      "text/plain": [
       "array([0, 1, 2, 3, 4], dtype=int8)"
      ]
     },
     "execution_count": 26,
     "metadata": {},
     "output_type": "execute_result"
    }
   ],
   "source": [
    "arr"
   ]
  }
 ],
 "metadata": {
  "kernelspec": {
   "display_name": "Python 3 (ipykernel)",
   "language": "python",
   "name": "python3"
  },
  "language_info": {
   "codemirror_mode": {
    "name": "ipython",
    "version": 3
   },
   "file_extension": ".py",
   "mimetype": "text/x-python",
   "name": "python",
   "nbconvert_exporter": "python",
   "pygments_lexer": "ipython3",
   "version": "3.11.5"
  }
 },
 "nbformat": 4,
 "nbformat_minor": 5
}
