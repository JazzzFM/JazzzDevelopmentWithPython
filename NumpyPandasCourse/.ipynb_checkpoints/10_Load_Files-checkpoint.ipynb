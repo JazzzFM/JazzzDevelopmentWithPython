{
 "cells": [
  {
   "cell_type": "code",
   "execution_count": 1,
   "id": "bf41691d",
   "metadata": {},
   "outputs": [],
   "source": [
    "import pandas as pd"
   ]
  },
  {
   "cell_type": "code",
   "execution_count": 2,
   "id": "07bafcba",
   "metadata": {},
   "outputs": [],
   "source": [
    "df = pd.read_csv(\"data/bestsellers-with-categories_e591527f-ae45-4fa5-b0d1-d50142128fa6.csv\",\n",
    "                sep = \",\")"
   ]
  },
  {
   "cell_type": "code",
   "execution_count": null,
   "id": "f6a32777",
   "metadata": {},
   "outputs": [],
   "source": []
  }
 ],
 "metadata": {
  "kernelspec": {
   "display_name": "Python (coyo)",
   "language": "python",
   "name": "coyo"
  },
  "language_info": {
   "codemirror_mode": {
    "name": "ipython",
    "version": 3
   },
   "file_extension": ".py",
   "mimetype": "text/x-python",
   "name": "python",
   "nbconvert_exporter": "python",
   "pygments_lexer": "ipython3",
   "version": "3.11.5"
  }
 },
 "nbformat": 4,
 "nbformat_minor": 5
}
